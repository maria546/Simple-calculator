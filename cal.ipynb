{
 "cells": [
  {
   "cell_type": "code",
   "execution_count": null,
   "metadata": {},
   "outputs": [
    {
     "name": "stdout",
     "output_type": "stream",
     "text": [
      "                                                    Calculator\n",
      "Enter 1st num=5\n",
      "Enter 2nd num=7\n",
      "Enter operation\n",
      "+ for Add\n",
      "- for Sub\n",
      "* for Mul\n",
      "+ for Add\n",
      "/ for Div\n"
     ]
    }
   ],
   "source": [
    "spaces = ' '* 50\n",
    "print(\" %s Calculator\"%spaces)\n",
    "num1 = int(input(\"Enter 1st num=\"))\n",
    "num2 = int(input(\"Enter 2nd num=\"))\n",
    "print(\"Enter operation\")\n",
    "print(\"+ for Add\")\n",
    "print(\"- for Sub\")\n",
    "print(\"* for Mul\")\n",
    "print(\"+ for Add\")\n",
    "print(\"/ for Div\")\n",
    "func = (input(\"please select any option:\"))\n",
    "\n",
    "if func == '+':\n",
    "    print(num1+num2)\n",
    "elif func == '-':\n",
    "    print(num1-num2)\n",
    "elif func == '*':\n",
    "    print(num1*num2)\n",
    "elif func == '/':\n",
    "    print(num1/num2)\n",
    "else:\n",
    "    print(\"unexpected error\")\n"
   ]
  },
  {
   "cell_type": "code",
   "execution_count": null,
   "metadata": {},
   "outputs": [],
   "source": []
  }
 ],
 "metadata": {
  "kernelspec": {
   "display_name": "Python 3",
   "language": "python",
   "name": "python3"
  },
  "language_info": {
   "codemirror_mode": {
    "name": "ipython",
    "version": 3
   },
   "file_extension": ".py",
   "mimetype": "text/x-python",
   "name": "python",
   "nbconvert_exporter": "python",
   "pygments_lexer": "ipython3",
   "version": "3.7.4"
  }
 },
 "nbformat": 4,
 "nbformat_minor": 2
}
